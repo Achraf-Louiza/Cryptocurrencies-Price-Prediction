{
 "cells": [
  {
   "cell_type": "markdown",
   "id": "71b8f5f2",
   "metadata": {},
   "source": [
    "## Okex API exploration - Trading"
   ]
  },
  {
   "cell_type": "code",
   "execution_count": 3,
   "id": "9b9d488c",
   "metadata": {},
   "outputs": [],
   "source": [
    "from okex import *\n",
    "import pandas as pd\n",
    "from datetime import datetime"
   ]
  },
  {
   "cell_type": "markdown",
   "id": "b977fb84",
   "metadata": {},
   "source": [
    "- API key, secret and passphrase should be modified in the config.py file (in okex module)  \n",
    "- My trading bot in Okex is currently being used."
   ]
  },
  {
   "cell_type": "markdown",
   "id": "58d9d3c2",
   "metadata": {},
   "source": [
    "### II. Trading "
   ]
  },
  {
   "cell_type": "code",
   "execution_count": 135,
   "id": "44cf663c",
   "metadata": {},
   "outputs": [],
   "source": [
    "account = AccountAPI(API_KEY, API_SECRET, PASSPHRASE, flag='1')\n",
    "trader = TradeAPI(API_KEY, API_SECRET, PASSPHRASE, flag='1')"
   ]
  },
  {
   "cell_type": "markdown",
   "id": "2873746e",
   "metadata": {},
   "source": [
    "We will be placing/canceling orders SPOT BUY/SELL & FUTURES LONG/SHORT."
   ]
  },
  {
   "cell_type": "markdown",
   "id": "8c40dcbe",
   "metadata": {},
   "source": [
    "#### 1. SPOT BUY"
   ]
  },
  {
   "cell_type": "code",
   "execution_count": 81,
   "id": "e8bfb410",
   "metadata": {},
   "outputs": [
    {
     "data": {
      "text/plain": [
       "{'code': '0',\n",
       " 'data': [{'clOrdId': '',\n",
       "   'ordId': '482327467064176640',\n",
       "   'sCode': '0',\n",
       "   'sMsg': '',\n",
       "   'tag': ''}],\n",
       " 'msg': ''}"
      ]
     },
     "execution_count": 81,
     "metadata": {},
     "output_type": "execute_result"
    }
   ],
   "source": [
    "account.set_position_mode('net_mode')\n",
    "trader.place_order(instId = 'BCH-USDT', tdMode = 'cash', side='buy', ordType='market', sz=131)"
   ]
  },
  {
   "cell_type": "markdown",
   "id": "839cbc67",
   "metadata": {},
   "source": [
    "#### 2. SPOT SELL"
   ]
  },
  {
   "cell_type": "code",
   "execution_count": 97,
   "id": "58a53046",
   "metadata": {},
   "outputs": [
    {
     "data": {
      "text/plain": [
       "{'code': '1',\n",
       " 'data': [{'clOrdId': '',\n",
       "   'ordId': '',\n",
       "   'sCode': '51008',\n",
       "   'sMsg': 'Delegate failed. Insufficient BCH balance in account ',\n",
       "   'tag': ''}],\n",
       " 'msg': 'Operation failed.'}"
      ]
     },
     "execution_count": 97,
     "metadata": {},
     "output_type": "execute_result"
    }
   ],
   "source": [
    "account.set_position_mode('net_mode')\n",
    "trader.place_order(instId = 'BCH-USDT', tdMode = 'cash', side='sell', ordType='market', sz=1)"
   ]
  },
  {
   "cell_type": "markdown",
   "id": "94289e16",
   "metadata": {},
   "source": [
    "#### 3. Futures long"
   ]
  },
  {
   "cell_type": "markdown",
   "id": "a6f1b842",
   "metadata": {},
   "source": [
    "Position mode and leverage configuration"
   ]
  },
  {
   "cell_type": "code",
   "execution_count": 174,
   "id": "0cc70e3c",
   "metadata": {},
   "outputs": [
    {
     "data": {
      "text/plain": [
       "{'code': '0',\n",
       " 'data': [{'instId': 'BCH-USDT-SWAP',\n",
       "   'lever': '20',\n",
       "   'mgnMode': 'isolated',\n",
       "   'posSide': 'long'}],\n",
       " 'msg': ''}"
      ]
     },
     "execution_count": 174,
     "metadata": {},
     "output_type": "execute_result"
    }
   ],
   "source": [
    "account.set_position_mode('long_short_mode')\n",
    "account.set_leverage(lever = 20, instId='BCH-USDT-SWAP', mgnMode = 'isolated', posSide='long')"
   ]
  },
  {
   "cell_type": "code",
   "execution_count": 177,
   "id": "16b141f7",
   "metadata": {},
   "outputs": [
    {
     "data": {
      "text/plain": [
       "{'code': '0',\n",
       " 'data': [{'clOrdId': '',\n",
       "   'ordId': '482434253087715328',\n",
       "   'sCode': '0',\n",
       "   'sMsg': '',\n",
       "   'tag': ''}],\n",
       " 'msg': ''}"
      ]
     },
     "execution_count": 177,
     "metadata": {},
     "output_type": "execute_result"
    }
   ],
   "source": [
    "# size in target (sum_currency * lever * 100 )\n",
    "# Example trade 1BCH with a lever of 3 need size = 1 * 3 * 100 = 300\n",
    "trader.place_order(instId = 'BCH-USDT-SWAP', tdMode = 'isolated', side='buy', ordType='market', sz=2000, posSide='long')"
   ]
  },
  {
   "cell_type": "markdown",
   "id": "fa746ee1",
   "metadata": {},
   "source": [
    "#### 4. Futures short"
   ]
  },
  {
   "cell_type": "markdown",
   "id": "d4f581e6",
   "metadata": {},
   "source": [
    "Position mode and leverage configuration"
   ]
  },
  {
   "cell_type": "code",
   "execution_count": 136,
   "id": "c302ee6e",
   "metadata": {},
   "outputs": [
    {
     "data": {
      "text/plain": [
       "{'code': '0',\n",
       " 'data': [{'instId': 'BCH-USDT-SWAP',\n",
       "   'lever': '7',\n",
       "   'mgnMode': 'isolated',\n",
       "   'posSide': 'short'}],\n",
       " 'msg': ''}"
      ]
     },
     "execution_count": 136,
     "metadata": {},
     "output_type": "execute_result"
    }
   ],
   "source": [
    "account.set_position_mode('long_short_mode')\n",
    "account.set_leverage(lever = 7, instId='BCH-USDT-SWAP', mgnMode = 'isolated', posSide='short')"
   ]
  },
  {
   "cell_type": "code",
   "execution_count": 142,
   "id": "b4e804e0",
   "metadata": {
    "scrolled": true
   },
   "outputs": [
    {
     "data": {
      "text/plain": [
       "{'code': '0',\n",
       " 'data': [{'clOrdId': '',\n",
       "   'ordId': '482354590348881920',\n",
       "   'sCode': '0',\n",
       "   'sMsg': '',\n",
       "   'tag': ''}],\n",
       " 'msg': ''}"
      ]
     },
     "execution_count": 142,
     "metadata": {},
     "output_type": "execute_result"
    }
   ],
   "source": [
    "# size in target (currency * lever * 100 )\n",
    "# Example trade 1BCH with a lever of 7 need size = 1 * 7 * 100 = 700\n",
    "trader.place_order(instId = 'BCH-USDT-SWAP', tdMode = 'isolated', side='sell', ordType='market', sz=700, posSide='short')"
   ]
  },
  {
   "cell_type": "markdown",
   "id": "6933a1b1",
   "metadata": {},
   "source": [
    "#### 5. Orders details"
   ]
  },
  {
   "cell_type": "markdown",
   "id": "40a11500",
   "metadata": {},
   "source": [
    "- Get an order details"
   ]
  },
  {
   "cell_type": "code",
   "execution_count": 87,
   "id": "dfd99fdf",
   "metadata": {},
   "outputs": [],
   "source": [
    "def get_order(trader, instId, ordId):\n",
    "    order = trader.get_order(instId, ordId)\n",
    "    if len(order['data'])==0:\n",
    "        return pd.DataFrame(columns = ['ordId', 'uTime', 'instId', 'state', 'tdMode', 'side', 'posSide', 'lever', 'ordType', 'px', 'fillPx', 'sz', 'fillSz', 'fee', 'uTime'])\n",
    "    df = pd.DataFrame([x.values() for x in order['data']], columns = order['data'][0].keys())\n",
    "    df['uTime'] = df['uTime'].astype('int64').map(lambda x: pd.to_datetime(x, unit='ms'))\n",
    "    df['cTime'] = df['cTime'].astype('int64').map(lambda x: pd.to_datetime(x, unit='ms'))\n",
    "    df = df[['ordId', 'uTime', 'instId', 'state', 'tdMode', 'side', 'posSide', 'lever', 'ordType', 'px', 'fillPx', 'sz', 'fillSz', 'fee', 'uTime']]\n",
    "    return df"
   ]
  },
  {
   "cell_type": "code",
   "execution_count": 89,
   "id": "54cf5701",
   "metadata": {},
   "outputs": [
    {
     "data": {
      "text/html": [
       "<div>\n",
       "<style scoped>\n",
       "    .dataframe tbody tr th:only-of-type {\n",
       "        vertical-align: middle;\n",
       "    }\n",
       "\n",
       "    .dataframe tbody tr th {\n",
       "        vertical-align: top;\n",
       "    }\n",
       "\n",
       "    .dataframe thead th {\n",
       "        text-align: right;\n",
       "    }\n",
       "</style>\n",
       "<table border=\"1\" class=\"dataframe\">\n",
       "  <thead>\n",
       "    <tr style=\"text-align: right;\">\n",
       "      <th></th>\n",
       "      <th>ordId</th>\n",
       "      <th>uTime</th>\n",
       "      <th>instId</th>\n",
       "      <th>state</th>\n",
       "      <th>tdMode</th>\n",
       "      <th>side</th>\n",
       "      <th>posSide</th>\n",
       "      <th>lever</th>\n",
       "      <th>ordType</th>\n",
       "      <th>px</th>\n",
       "      <th>fillPx</th>\n",
       "      <th>sz</th>\n",
       "      <th>fillSz</th>\n",
       "      <th>fee</th>\n",
       "      <th>uTime</th>\n",
       "    </tr>\n",
       "  </thead>\n",
       "  <tbody>\n",
       "    <tr>\n",
       "      <th>0</th>\n",
       "      <td>482332899086315520</td>\n",
       "      <td>2022-08-23 15:38:44.457</td>\n",
       "      <td>BCH-USDT-SWAP</td>\n",
       "      <td>filled</td>\n",
       "      <td>isolated</td>\n",
       "      <td>sell</td>\n",
       "      <td>short</td>\n",
       "      <td>7</td>\n",
       "      <td>market</td>\n",
       "      <td></td>\n",
       "      <td>131.43</td>\n",
       "      <td>700</td>\n",
       "      <td>700</td>\n",
       "      <td>-0.460005</td>\n",
       "      <td>2022-08-23 15:38:44.457</td>\n",
       "    </tr>\n",
       "  </tbody>\n",
       "</table>\n",
       "</div>"
      ],
      "text/plain": [
       "                ordId                   uTime         instId   state  \\\n",
       "0  482332899086315520 2022-08-23 15:38:44.457  BCH-USDT-SWAP  filled   \n",
       "\n",
       "     tdMode  side posSide lever ordType px  fillPx   sz fillSz        fee  \\\n",
       "0  isolated  sell   short     7  market     131.43  700    700  -0.460005   \n",
       "\n",
       "                    uTime  \n",
       "0 2022-08-23 15:38:44.457  "
      ]
     },
     "execution_count": 89,
     "metadata": {},
     "output_type": "execute_result"
    }
   ],
   "source": [
    "get_order(trader, 'BCH-USDT-SWAP', '482332899086315520')"
   ]
  },
  {
   "cell_type": "markdown",
   "id": "5c2b5e36",
   "metadata": {},
   "source": [
    "- Get pending orders"
   ]
  },
  {
   "cell_type": "code",
   "execution_count": 93,
   "id": "589f2a51",
   "metadata": {},
   "outputs": [],
   "source": [
    "def get_orders_pending(trader):\n",
    "    order = trader.get_orders()\n",
    "    if len(order['data'])==0:\n",
    "        return pd.DataFrame(columns = ['ordId', 'uTime', 'instId', 'state', 'tdMode', 'side', 'posSide', 'lever', 'ordType', 'px', 'fillPx', 'sz', 'fillSz', 'fee', 'uTime'])\n",
    "    df = pd.DataFrame([x.values() for x in order['data']], columns = order['data'][0].keys())\n",
    "    df['uTime'] = df['uTime'].astype('int64').map(lambda x: pd.to_datetime(x, unit='ms'))\n",
    "    df['cTime'] = df['cTime'].astype('int64').map(lambda x: pd.to_datetime(x, unit='ms'))\n",
    "    df = df[['ordId', 'uTime', 'instId', 'state', 'tdMode', 'side', 'posSide', 'lever', 'ordType', 'px', 'fillPx', 'sz', 'fillSz', 'fee', 'uTime']]\n",
    "    return df"
   ]
  },
  {
   "cell_type": "code",
   "execution_count": 94,
   "id": "8fa01113",
   "metadata": {},
   "outputs": [
    {
     "data": {
      "text/html": [
       "<div>\n",
       "<style scoped>\n",
       "    .dataframe tbody tr th:only-of-type {\n",
       "        vertical-align: middle;\n",
       "    }\n",
       "\n",
       "    .dataframe tbody tr th {\n",
       "        vertical-align: top;\n",
       "    }\n",
       "\n",
       "    .dataframe thead th {\n",
       "        text-align: right;\n",
       "    }\n",
       "</style>\n",
       "<table border=\"1\" class=\"dataframe\">\n",
       "  <thead>\n",
       "    <tr style=\"text-align: right;\">\n",
       "      <th></th>\n",
       "      <th>ordId</th>\n",
       "      <th>uTime</th>\n",
       "      <th>instId</th>\n",
       "      <th>state</th>\n",
       "      <th>tdMode</th>\n",
       "      <th>side</th>\n",
       "      <th>posSide</th>\n",
       "      <th>lever</th>\n",
       "      <th>ordType</th>\n",
       "      <th>px</th>\n",
       "      <th>fillPx</th>\n",
       "      <th>sz</th>\n",
       "      <th>fillSz</th>\n",
       "      <th>fee</th>\n",
       "      <th>uTime</th>\n",
       "    </tr>\n",
       "  </thead>\n",
       "  <tbody>\n",
       "    <tr>\n",
       "      <th>0</th>\n",
       "      <td>482346831154917376</td>\n",
       "      <td>2022-08-23 16:34:06.118</td>\n",
       "      <td>BCH-USDT-SWAP</td>\n",
       "      <td>live</td>\n",
       "      <td>isolated</td>\n",
       "      <td>buy</td>\n",
       "      <td>long</td>\n",
       "      <td>20</td>\n",
       "      <td>limit</td>\n",
       "      <td>131</td>\n",
       "      <td></td>\n",
       "      <td>300</td>\n",
       "      <td>0</td>\n",
       "      <td>0</td>\n",
       "      <td>2022-08-23 16:34:06.118</td>\n",
       "    </tr>\n",
       "  </tbody>\n",
       "</table>\n",
       "</div>"
      ],
      "text/plain": [
       "                ordId                   uTime         instId state    tdMode  \\\n",
       "0  482346831154917376 2022-08-23 16:34:06.118  BCH-USDT-SWAP  live  isolated   \n",
       "\n",
       "  side posSide lever ordType   px fillPx   sz fillSz fee  \\\n",
       "0  buy    long    20   limit  131         300      0   0   \n",
       "\n",
       "                    uTime  \n",
       "0 2022-08-23 16:34:06.118  "
      ]
     },
     "execution_count": 94,
     "metadata": {},
     "output_type": "execute_result"
    }
   ],
   "source": [
    "get_orders_pending(trader)"
   ]
  },
  {
   "cell_type": "markdown",
   "id": "d25aaa6b",
   "metadata": {},
   "source": [
    "- Get order history"
   ]
  },
  {
   "cell_type": "code",
   "execution_count": 57,
   "id": "7c1d87d5",
   "metadata": {},
   "outputs": [],
   "source": [
    "def get_orders_history(trader):\n",
    "    order = trader.orders_history_archive('SWAP')\n",
    "    df = pd.DataFrame([x.values() for x in order['data']], columns = order['data'][0].keys())\n",
    "    df['uTime'] = df['uTime'].astype('int64').map(lambda x: pd.to_datetime(x, unit='ms'))\n",
    "    df['cTime'] = df['cTime'].astype('int64').map(lambda x: pd.to_datetime(x, unit='ms'))\n",
    "    df = df[['ordId', 'uTime', 'instId', 'state', 'tdMode', 'side', 'posSide', 'lever', 'ordType', 'px', 'fillPx', 'sz', 'fillSz', 'pnl', 'fee', 'tpTriggerPx', 'tpTriggerPxType', 'tpOrdPx', 'slTriggerPx', 'slTriggerPxType', 'slOrdPx', 'uTime']]\n",
    "    return df"
   ]
  },
  {
   "cell_type": "code",
   "execution_count": 99,
   "id": "78c86e5d",
   "metadata": {},
   "outputs": [
    {
     "data": {
      "text/html": [
       "<div>\n",
       "<style scoped>\n",
       "    .dataframe tbody tr th:only-of-type {\n",
       "        vertical-align: middle;\n",
       "    }\n",
       "\n",
       "    .dataframe tbody tr th {\n",
       "        vertical-align: top;\n",
       "    }\n",
       "\n",
       "    .dataframe thead th {\n",
       "        text-align: right;\n",
       "    }\n",
       "</style>\n",
       "<table border=\"1\" class=\"dataframe\">\n",
       "  <thead>\n",
       "    <tr style=\"text-align: right;\">\n",
       "      <th></th>\n",
       "      <th>ordId</th>\n",
       "      <th>uTime</th>\n",
       "      <th>instId</th>\n",
       "      <th>state</th>\n",
       "      <th>tdMode</th>\n",
       "      <th>side</th>\n",
       "      <th>posSide</th>\n",
       "      <th>lever</th>\n",
       "      <th>ordType</th>\n",
       "      <th>px</th>\n",
       "      <th>...</th>\n",
       "      <th>fillSz</th>\n",
       "      <th>pnl</th>\n",
       "      <th>fee</th>\n",
       "      <th>tpTriggerPx</th>\n",
       "      <th>tpTriggerPxType</th>\n",
       "      <th>tpOrdPx</th>\n",
       "      <th>slTriggerPx</th>\n",
       "      <th>slTriggerPxType</th>\n",
       "      <th>slOrdPx</th>\n",
       "      <th>uTime</th>\n",
       "    </tr>\n",
       "  </thead>\n",
       "  <tbody>\n",
       "    <tr>\n",
       "      <th>0</th>\n",
       "      <td>482347312069619712</td>\n",
       "      <td>2022-08-23 16:36:00.805</td>\n",
       "      <td>BCH-USDT-SWAP</td>\n",
       "      <td>filled</td>\n",
       "      <td>isolated</td>\n",
       "      <td>buy</td>\n",
       "      <td>short</td>\n",
       "      <td>7.0</td>\n",
       "      <td>market</td>\n",
       "      <td></td>\n",
       "      <td>...</td>\n",
       "      <td>1400</td>\n",
       "      <td>-14</td>\n",
       "      <td>-0.92701</td>\n",
       "      <td></td>\n",
       "      <td></td>\n",
       "      <td></td>\n",
       "      <td></td>\n",
       "      <td></td>\n",
       "      <td></td>\n",
       "      <td>2022-08-23 16:36:00.805</td>\n",
       "    </tr>\n",
       "    <tr>\n",
       "      <th>1</th>\n",
       "      <td>482332899086315520</td>\n",
       "      <td>2022-08-23 15:38:44.470</td>\n",
       "      <td>BCH-USDT-SWAP</td>\n",
       "      <td>filled</td>\n",
       "      <td>isolated</td>\n",
       "      <td>sell</td>\n",
       "      <td>short</td>\n",
       "      <td>7.0</td>\n",
       "      <td>market</td>\n",
       "      <td></td>\n",
       "      <td>...</td>\n",
       "      <td>700</td>\n",
       "      <td>0</td>\n",
       "      <td>-0.460005</td>\n",
       "      <td></td>\n",
       "      <td></td>\n",
       "      <td></td>\n",
       "      <td></td>\n",
       "      <td></td>\n",
       "      <td></td>\n",
       "      <td>2022-08-23 15:38:44.470</td>\n",
       "    </tr>\n",
       "    <tr>\n",
       "      <th>2</th>\n",
       "      <td>482331317074538496</td>\n",
       "      <td>2022-08-23 15:32:27.309</td>\n",
       "      <td>BCH-USDT-SWAP</td>\n",
       "      <td>filled</td>\n",
       "      <td>isolated</td>\n",
       "      <td>sell</td>\n",
       "      <td>short</td>\n",
       "      <td>7.0</td>\n",
       "      <td>market</td>\n",
       "      <td></td>\n",
       "      <td>...</td>\n",
       "      <td>700</td>\n",
       "      <td>0</td>\n",
       "      <td>-0.460005</td>\n",
       "      <td></td>\n",
       "      <td></td>\n",
       "      <td></td>\n",
       "      <td></td>\n",
       "      <td></td>\n",
       "      <td></td>\n",
       "      <td>2022-08-23 15:32:27.309</td>\n",
       "    </tr>\n",
       "    <tr>\n",
       "      <th>3</th>\n",
       "      <td>482331013327237120</td>\n",
       "      <td>2022-08-23 15:31:14.868</td>\n",
       "      <td>BCH-USDT-SWAP</td>\n",
       "      <td>filled</td>\n",
       "      <td>isolated</td>\n",
       "      <td>sell</td>\n",
       "      <td>long</td>\n",
       "      <td>3.0</td>\n",
       "      <td>market</td>\n",
       "      <td></td>\n",
       "      <td>...</td>\n",
       "      <td>400</td>\n",
       "      <td>0.1</td>\n",
       "      <td>-0.26314</td>\n",
       "      <td></td>\n",
       "      <td></td>\n",
       "      <td></td>\n",
       "      <td></td>\n",
       "      <td></td>\n",
       "      <td></td>\n",
       "      <td>2022-08-23 15:31:14.868</td>\n",
       "    </tr>\n",
       "    <tr>\n",
       "      <th>4</th>\n",
       "      <td>482330988824113176</td>\n",
       "      <td>2022-08-23 15:31:09.035</td>\n",
       "      <td>BCH-USDT-SWAP</td>\n",
       "      <td>filled</td>\n",
       "      <td>isolated</td>\n",
       "      <td>buy</td>\n",
       "      <td>long</td>\n",
       "      <td>3.0</td>\n",
       "      <td>market</td>\n",
       "      <td></td>\n",
       "      <td>...</td>\n",
       "      <td>300</td>\n",
       "      <td>0</td>\n",
       "      <td>-0.19743</td>\n",
       "      <td></td>\n",
       "      <td></td>\n",
       "      <td></td>\n",
       "      <td></td>\n",
       "      <td></td>\n",
       "      <td></td>\n",
       "      <td>2022-08-23 15:31:09.035</td>\n",
       "    </tr>\n",
       "  </tbody>\n",
       "</table>\n",
       "<p>5 rows × 22 columns</p>\n",
       "</div>"
      ],
      "text/plain": [
       "                ordId                   uTime         instId   state  \\\n",
       "0  482347312069619712 2022-08-23 16:36:00.805  BCH-USDT-SWAP  filled   \n",
       "1  482332899086315520 2022-08-23 15:38:44.470  BCH-USDT-SWAP  filled   \n",
       "2  482331317074538496 2022-08-23 15:32:27.309  BCH-USDT-SWAP  filled   \n",
       "3  482331013327237120 2022-08-23 15:31:14.868  BCH-USDT-SWAP  filled   \n",
       "4  482330988824113176 2022-08-23 15:31:09.035  BCH-USDT-SWAP  filled   \n",
       "\n",
       "     tdMode  side posSide lever ordType px  ... fillSz  pnl        fee  \\\n",
       "0  isolated   buy   short   7.0  market     ...   1400  -14   -0.92701   \n",
       "1  isolated  sell   short   7.0  market     ...    700    0  -0.460005   \n",
       "2  isolated  sell   short   7.0  market     ...    700    0  -0.460005   \n",
       "3  isolated  sell    long   3.0  market     ...    400  0.1   -0.26314   \n",
       "4  isolated   buy    long   3.0  market     ...    300    0   -0.19743   \n",
       "\n",
       "  tpTriggerPx tpTriggerPxType tpOrdPx slTriggerPx slTriggerPxType slOrdPx  \\\n",
       "0                                                                           \n",
       "1                                                                           \n",
       "2                                                                           \n",
       "3                                                                           \n",
       "4                                                                           \n",
       "\n",
       "                    uTime  \n",
       "0 2022-08-23 16:36:00.805  \n",
       "1 2022-08-23 15:38:44.470  \n",
       "2 2022-08-23 15:32:27.309  \n",
       "3 2022-08-23 15:31:14.868  \n",
       "4 2022-08-23 15:31:09.035  \n",
       "\n",
       "[5 rows x 22 columns]"
      ]
     },
     "execution_count": 99,
     "metadata": {},
     "output_type": "execute_result"
    }
   ],
   "source": [
    "get_orders_history(trader).head()"
   ]
  },
  {
   "cell_type": "markdown",
   "id": "45a0cd31",
   "metadata": {},
   "source": [
    "#### 6. Cancel an order"
   ]
  },
  {
   "cell_type": "code",
   "execution_count": 71,
   "id": "eb76971f",
   "metadata": {},
   "outputs": [],
   "source": [
    "def cancel_order(trader, instId, ordId):\n",
    "    trader.cancel_order(instId, ordId)"
   ]
  },
  {
   "cell_type": "code",
   "execution_count": 95,
   "id": "2545e419",
   "metadata": {},
   "outputs": [],
   "source": [
    "cancel_order(trader, 'BCH-USDT-SWAP', '482346831154917376')"
   ]
  },
  {
   "cell_type": "markdown",
   "id": "b8773696",
   "metadata": {},
   "source": [
    "#### 7. Close positions"
   ]
  },
  {
   "cell_type": "code",
   "execution_count": 122,
   "id": "de4300e2",
   "metadata": {},
   "outputs": [
    {
     "data": {
      "text/plain": [
       "{'code': '0',\n",
       " 'data': [{'clientId': '',\n",
       "   'instId': 'BCH-USDT-SWAP',\n",
       "   'posSide': 'short',\n",
       "   'tag': ''}],\n",
       " 'msg': ''}"
      ]
     },
     "execution_count": 122,
     "metadata": {},
     "output_type": "execute_result"
    }
   ],
   "source": [
    "trader.close_positions(instId='BCH-USDT-SWAP', mgnMode='isolated', posSide='short', ccy=None)"
   ]
  },
  {
   "cell_type": "markdown",
   "id": "a1fff7ff",
   "metadata": {},
   "source": [
    "#### 8. Take Profit/Stop Loss orders"
   ]
  },
  {
   "cell_type": "markdown",
   "id": "e6e38081",
   "metadata": {},
   "source": [
    "Create TP/SL order"
   ]
  },
  {
   "cell_type": "code",
   "execution_count": 152,
   "id": "9a20f665",
   "metadata": {},
   "outputs": [
    {
     "data": {
      "text/plain": [
       "{'code': '0',\n",
       " 'data': [{'algoId': '482355795477278720', 'sCode': '0', 'sMsg': ''}],\n",
       " 'msg': ''}"
      ]
     },
     "execution_count": 152,
     "metadata": {},
     "output_type": "execute_result"
    }
   ],
   "source": [
    "# size in target (currency * lever * 100 )\n",
    "# Example trade 1BCH with a lever of 7 need size = 1 * 7 * 100 = 700\n",
    "trader.place_algo_order(instId = 'BCH-USDT-SWAP', tdMode = 'isolated', side='sell', ordType='oco',  sz=700, posSide='short', tpTriggerPx=140, tpOrdPx=140, slTriggerPx=131, slOrdPx=131)"
   ]
  },
  {
   "cell_type": "markdown",
   "id": "cafabdb3",
   "metadata": {},
   "source": [
    "Cancel TP/SL order"
   ]
  },
  {
   "cell_type": "code",
   "execution_count": 173,
   "id": "6c44c880",
   "metadata": {},
   "outputs": [
    {
     "data": {
      "text/plain": [
       "{'code': '0',\n",
       " 'data': [{'algoId': '482355795477278720', 'sCode': '0', 'sMsg': ''}],\n",
       " 'msg': ''}"
      ]
     },
     "execution_count": 173,
     "metadata": {},
     "output_type": "execute_result"
    }
   ],
   "source": [
    "trader.cancel_algo_order([{'algoId':'482355795477278720', 'instId': 'BCH-USDT-SWAP'}])"
   ]
  },
  {
   "cell_type": "markdown",
   "id": "2ab299df",
   "metadata": {},
   "source": [
    "Get TP/SL pending orders"
   ]
  },
  {
   "cell_type": "code",
   "execution_count": 159,
   "id": "4fe5892e",
   "metadata": {},
   "outputs": [],
   "source": [
    "def get_pending_algo_orders(trader):\n",
    "    orders = trader.order_algos_list('oco')\n",
    "    if len(orders['data'])==0:\n",
    "        return pd.DataFrame()\n",
    "    df = pd.DataFrame([x.values() for x in orders['data']], columns = orders['data'][0].keys())\n",
    "    df['cTime'] = df['cTime'].astype('int64').map(lambda x: pd.to_datetime(x, unit='ms'))\n",
    "    return df"
   ]
  },
  {
   "cell_type": "code",
   "execution_count": 160,
   "id": "68c74933",
   "metadata": {},
   "outputs": [
    {
     "data": {
      "text/html": [
       "<div>\n",
       "<style scoped>\n",
       "    .dataframe tbody tr th:only-of-type {\n",
       "        vertical-align: middle;\n",
       "    }\n",
       "\n",
       "    .dataframe tbody tr th {\n",
       "        vertical-align: top;\n",
       "    }\n",
       "\n",
       "    .dataframe thead th {\n",
       "        text-align: right;\n",
       "    }\n",
       "</style>\n",
       "<table border=\"1\" class=\"dataframe\">\n",
       "  <thead>\n",
       "    <tr style=\"text-align: right;\">\n",
       "      <th></th>\n",
       "      <th>activePx</th>\n",
       "      <th>actualPx</th>\n",
       "      <th>actualSide</th>\n",
       "      <th>actualSz</th>\n",
       "      <th>algoId</th>\n",
       "      <th>cTime</th>\n",
       "      <th>callbackRatio</th>\n",
       "      <th>callbackSpread</th>\n",
       "      <th>ccy</th>\n",
       "      <th>instId</th>\n",
       "      <th>...</th>\n",
       "      <th>tag</th>\n",
       "      <th>tdMode</th>\n",
       "      <th>tgtCcy</th>\n",
       "      <th>timeInterval</th>\n",
       "      <th>tpOrdPx</th>\n",
       "      <th>tpTriggerPx</th>\n",
       "      <th>tpTriggerPxType</th>\n",
       "      <th>triggerPx</th>\n",
       "      <th>triggerPxType</th>\n",
       "      <th>triggerTime</th>\n",
       "    </tr>\n",
       "  </thead>\n",
       "  <tbody>\n",
       "    <tr>\n",
       "      <th>0</th>\n",
       "      <td></td>\n",
       "      <td></td>\n",
       "      <td></td>\n",
       "      <td>0</td>\n",
       "      <td>482355795477278720</td>\n",
       "      <td>2022-08-23 17:09:43.379</td>\n",
       "      <td></td>\n",
       "      <td></td>\n",
       "      <td></td>\n",
       "      <td>BCH-USDT-SWAP</td>\n",
       "      <td>...</td>\n",
       "      <td></td>\n",
       "      <td>isolated</td>\n",
       "      <td></td>\n",
       "      <td></td>\n",
       "      <td>140</td>\n",
       "      <td>140</td>\n",
       "      <td>last</td>\n",
       "      <td></td>\n",
       "      <td></td>\n",
       "      <td></td>\n",
       "    </tr>\n",
       "  </tbody>\n",
       "</table>\n",
       "<p>1 rows × 37 columns</p>\n",
       "</div>"
      ],
      "text/plain": [
       "  activePx actualPx actualSide actualSz              algoId  \\\n",
       "0                                     0  482355795477278720   \n",
       "\n",
       "                    cTime callbackRatio callbackSpread ccy         instId  \\\n",
       "0 2022-08-23 17:09:43.379                                   BCH-USDT-SWAP   \n",
       "\n",
       "   ... tag    tdMode tgtCcy timeInterval tpOrdPx tpTriggerPx tpTriggerPxType  \\\n",
       "0  ...      isolated                         140         140            last   \n",
       "\n",
       "  triggerPx triggerPxType triggerTime  \n",
       "0                                      \n",
       "\n",
       "[1 rows x 37 columns]"
      ]
     },
     "execution_count": 160,
     "metadata": {},
     "output_type": "execute_result"
    }
   ],
   "source": [
    "get_pending_algo_orders(trader)"
   ]
  },
  {
   "cell_type": "markdown",
   "id": "00772b76",
   "metadata": {},
   "source": [
    "Get TP/SL historical orders"
   ]
  },
  {
   "cell_type": "code",
   "execution_count": 171,
   "id": "6a8a49b4",
   "metadata": {},
   "outputs": [],
   "source": [
    "def get_history_algo_orders(trader, state='canceled'):\n",
    "    orders = trader.order_algos_history('oco', state)\n",
    "    if len(orders['data'])==0:\n",
    "        return pd.DataFrame()\n",
    "    df = pd.DataFrame([x.values() for x in orders['data']], columns = orders['data'][0].keys())\n",
    "    df['cTime'] = df['cTime'].astype('int64').map(lambda x: pd.to_datetime(x, unit='ms'))\n",
    "    return df"
   ]
  },
  {
   "cell_type": "code",
   "execution_count": 172,
   "id": "3692f644",
   "metadata": {},
   "outputs": [
    {
     "data": {
      "text/html": [
       "<div>\n",
       "<style scoped>\n",
       "    .dataframe tbody tr th:only-of-type {\n",
       "        vertical-align: middle;\n",
       "    }\n",
       "\n",
       "    .dataframe tbody tr th {\n",
       "        vertical-align: top;\n",
       "    }\n",
       "\n",
       "    .dataframe thead th {\n",
       "        text-align: right;\n",
       "    }\n",
       "</style>\n",
       "<table border=\"1\" class=\"dataframe\">\n",
       "  <thead>\n",
       "    <tr style=\"text-align: right;\">\n",
       "      <th></th>\n",
       "      <th>activePx</th>\n",
       "      <th>actualPx</th>\n",
       "      <th>actualSide</th>\n",
       "      <th>actualSz</th>\n",
       "      <th>algoId</th>\n",
       "      <th>cTime</th>\n",
       "      <th>callbackRatio</th>\n",
       "      <th>callbackSpread</th>\n",
       "      <th>ccy</th>\n",
       "      <th>instId</th>\n",
       "      <th>...</th>\n",
       "      <th>tag</th>\n",
       "      <th>tdMode</th>\n",
       "      <th>tgtCcy</th>\n",
       "      <th>timeInterval</th>\n",
       "      <th>tpOrdPx</th>\n",
       "      <th>tpTriggerPx</th>\n",
       "      <th>tpTriggerPxType</th>\n",
       "      <th>triggerPx</th>\n",
       "      <th>triggerPxType</th>\n",
       "      <th>triggerTime</th>\n",
       "    </tr>\n",
       "  </thead>\n",
       "  <tbody>\n",
       "    <tr>\n",
       "      <th>0</th>\n",
       "      <td></td>\n",
       "      <td></td>\n",
       "      <td></td>\n",
       "      <td>0</td>\n",
       "      <td>482355015080882188</td>\n",
       "      <td>2022-08-23 17:06:37.318</td>\n",
       "      <td></td>\n",
       "      <td></td>\n",
       "      <td></td>\n",
       "      <td>BCH-USDT-SWAP</td>\n",
       "      <td>...</td>\n",
       "      <td></td>\n",
       "      <td>isolated</td>\n",
       "      <td></td>\n",
       "      <td></td>\n",
       "      <td>140</td>\n",
       "      <td>140</td>\n",
       "      <td>last</td>\n",
       "      <td></td>\n",
       "      <td></td>\n",
       "      <td></td>\n",
       "    </tr>\n",
       "    <tr>\n",
       "      <th>1</th>\n",
       "      <td></td>\n",
       "      <td></td>\n",
       "      <td></td>\n",
       "      <td>0</td>\n",
       "      <td>482354758917959686</td>\n",
       "      <td>2022-08-23 17:05:36.244</td>\n",
       "      <td></td>\n",
       "      <td></td>\n",
       "      <td></td>\n",
       "      <td>BCH-USDT-SWAP</td>\n",
       "      <td>...</td>\n",
       "      <td></td>\n",
       "      <td>isolated</td>\n",
       "      <td></td>\n",
       "      <td></td>\n",
       "      <td>140</td>\n",
       "      <td>140</td>\n",
       "      <td>last</td>\n",
       "      <td></td>\n",
       "      <td></td>\n",
       "      <td></td>\n",
       "    </tr>\n",
       "    <tr>\n",
       "      <th>2</th>\n",
       "      <td></td>\n",
       "      <td></td>\n",
       "      <td></td>\n",
       "      <td>0</td>\n",
       "      <td>482354277319585792</td>\n",
       "      <td>2022-08-23 17:03:41.422</td>\n",
       "      <td></td>\n",
       "      <td></td>\n",
       "      <td></td>\n",
       "      <td>BCH-USDT-SWAP</td>\n",
       "      <td>...</td>\n",
       "      <td></td>\n",
       "      <td>isolated</td>\n",
       "      <td></td>\n",
       "      <td></td>\n",
       "      <td>131</td>\n",
       "      <td>131</td>\n",
       "      <td>last</td>\n",
       "      <td></td>\n",
       "      <td></td>\n",
       "      <td></td>\n",
       "    </tr>\n",
       "    <tr>\n",
       "      <th>3</th>\n",
       "      <td></td>\n",
       "      <td></td>\n",
       "      <td></td>\n",
       "      <td>0</td>\n",
       "      <td>482353887635189760</td>\n",
       "      <td>2022-08-23 17:02:08.514</td>\n",
       "      <td></td>\n",
       "      <td></td>\n",
       "      <td></td>\n",
       "      <td>BCH-USDT-SWAP</td>\n",
       "      <td>...</td>\n",
       "      <td></td>\n",
       "      <td>isolated</td>\n",
       "      <td></td>\n",
       "      <td></td>\n",
       "      <td>131</td>\n",
       "      <td>131</td>\n",
       "      <td>last</td>\n",
       "      <td></td>\n",
       "      <td></td>\n",
       "      <td></td>\n",
       "    </tr>\n",
       "    <tr>\n",
       "      <th>4</th>\n",
       "      <td></td>\n",
       "      <td></td>\n",
       "      <td></td>\n",
       "      <td>0</td>\n",
       "      <td>482353590762352652</td>\n",
       "      <td>2022-08-23 17:00:57.734</td>\n",
       "      <td></td>\n",
       "      <td></td>\n",
       "      <td></td>\n",
       "      <td>BCH-USDT-SWAP</td>\n",
       "      <td>...</td>\n",
       "      <td></td>\n",
       "      <td>isolated</td>\n",
       "      <td></td>\n",
       "      <td></td>\n",
       "      <td>131</td>\n",
       "      <td>131</td>\n",
       "      <td>last</td>\n",
       "      <td></td>\n",
       "      <td></td>\n",
       "      <td></td>\n",
       "    </tr>\n",
       "    <tr>\n",
       "      <th>5</th>\n",
       "      <td></td>\n",
       "      <td></td>\n",
       "      <td></td>\n",
       "      <td>0</td>\n",
       "      <td>482353513926897664</td>\n",
       "      <td>2022-08-23 17:00:39.415</td>\n",
       "      <td></td>\n",
       "      <td></td>\n",
       "      <td></td>\n",
       "      <td>BCH-USDT-SWAP</td>\n",
       "      <td>...</td>\n",
       "      <td></td>\n",
       "      <td>isolated</td>\n",
       "      <td></td>\n",
       "      <td></td>\n",
       "      <td>131</td>\n",
       "      <td>131</td>\n",
       "      <td>last</td>\n",
       "      <td></td>\n",
       "      <td></td>\n",
       "      <td></td>\n",
       "    </tr>\n",
       "    <tr>\n",
       "      <th>6</th>\n",
       "      <td></td>\n",
       "      <td></td>\n",
       "      <td></td>\n",
       "      <td>0</td>\n",
       "      <td>482353413699809280</td>\n",
       "      <td>2022-08-23 17:00:15.519</td>\n",
       "      <td></td>\n",
       "      <td></td>\n",
       "      <td></td>\n",
       "      <td>BCH-USDT-SWAP</td>\n",
       "      <td>...</td>\n",
       "      <td></td>\n",
       "      <td>isolated</td>\n",
       "      <td></td>\n",
       "      <td></td>\n",
       "      <td>131</td>\n",
       "      <td>131</td>\n",
       "      <td>last</td>\n",
       "      <td></td>\n",
       "      <td></td>\n",
       "      <td></td>\n",
       "    </tr>\n",
       "    <tr>\n",
       "      <th>7</th>\n",
       "      <td></td>\n",
       "      <td></td>\n",
       "      <td></td>\n",
       "      <td>0</td>\n",
       "      <td>482342274689544192</td>\n",
       "      <td>2022-08-23 16:15:59.772</td>\n",
       "      <td></td>\n",
       "      <td></td>\n",
       "      <td></td>\n",
       "      <td>BCH-USDT-SWAP</td>\n",
       "      <td>...</td>\n",
       "      <td></td>\n",
       "      <td>isolated</td>\n",
       "      <td></td>\n",
       "      <td></td>\n",
       "      <td>130</td>\n",
       "      <td>130</td>\n",
       "      <td>last</td>\n",
       "      <td></td>\n",
       "      <td></td>\n",
       "      <td></td>\n",
       "    </tr>\n",
       "  </tbody>\n",
       "</table>\n",
       "<p>8 rows × 37 columns</p>\n",
       "</div>"
      ],
      "text/plain": [
       "  activePx actualPx actualSide actualSz              algoId  \\\n",
       "0                                     0  482355015080882188   \n",
       "1                                     0  482354758917959686   \n",
       "2                                     0  482354277319585792   \n",
       "3                                     0  482353887635189760   \n",
       "4                                     0  482353590762352652   \n",
       "5                                     0  482353513926897664   \n",
       "6                                     0  482353413699809280   \n",
       "7                                     0  482342274689544192   \n",
       "\n",
       "                    cTime callbackRatio callbackSpread ccy         instId  \\\n",
       "0 2022-08-23 17:06:37.318                                   BCH-USDT-SWAP   \n",
       "1 2022-08-23 17:05:36.244                                   BCH-USDT-SWAP   \n",
       "2 2022-08-23 17:03:41.422                                   BCH-USDT-SWAP   \n",
       "3 2022-08-23 17:02:08.514                                   BCH-USDT-SWAP   \n",
       "4 2022-08-23 17:00:57.734                                   BCH-USDT-SWAP   \n",
       "5 2022-08-23 17:00:39.415                                   BCH-USDT-SWAP   \n",
       "6 2022-08-23 17:00:15.519                                   BCH-USDT-SWAP   \n",
       "7 2022-08-23 16:15:59.772                                   BCH-USDT-SWAP   \n",
       "\n",
       "   ... tag    tdMode tgtCcy timeInterval tpOrdPx tpTriggerPx tpTriggerPxType  \\\n",
       "0  ...      isolated                         140         140            last   \n",
       "1  ...      isolated                         140         140            last   \n",
       "2  ...      isolated                         131         131            last   \n",
       "3  ...      isolated                         131         131            last   \n",
       "4  ...      isolated                         131         131            last   \n",
       "5  ...      isolated                         131         131            last   \n",
       "6  ...      isolated                         131         131            last   \n",
       "7  ...      isolated                         130         130            last   \n",
       "\n",
       "  triggerPx triggerPxType triggerTime  \n",
       "0                                      \n",
       "1                                      \n",
       "2                                      \n",
       "3                                      \n",
       "4                                      \n",
       "5                                      \n",
       "6                                      \n",
       "7                                      \n",
       "\n",
       "[8 rows x 37 columns]"
      ]
     },
     "execution_count": 172,
     "metadata": {},
     "output_type": "execute_result"
    }
   ],
   "source": [
    "get_history_algo_orders(trader)"
   ]
  }
 ],
 "metadata": {
  "kernelspec": {
   "display_name": "Python 3 (ipykernel)",
   "language": "python",
   "name": "python3"
  },
  "language_info": {
   "codemirror_mode": {
    "name": "ipython",
    "version": 3
   },
   "file_extension": ".py",
   "mimetype": "text/x-python",
   "name": "python",
   "nbconvert_exporter": "python",
   "pygments_lexer": "ipython3",
   "version": "3.9.12"
  }
 },
 "nbformat": 4,
 "nbformat_minor": 5
}
